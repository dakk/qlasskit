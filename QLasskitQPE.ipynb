{
  "nbformat": 4,
  "nbformat_minor": 0,
  "metadata": {
    "colab": {
      "provenance": []
    },
    "kernelspec": {
      "name": "python3",
      "display_name": "Python 3"
    },
    "language_info": {
      "name": "python"
    }
  },
  "cells": [
    {
      "cell_type": "code",
      "execution_count": 1,
      "metadata": {
        "colab": {
          "base_uri": "https://localhost:8080/"
        },
        "id": "L0Z8uaP9AdIQ",
        "outputId": "efd46662-7abb-47d4-c4fe-4e1f16fdebdc"
      },
      "outputs": [
        {
          "output_type": "stream",
          "name": "stdout",
          "text": [
            "Collecting qlasskit\n",
            "  Downloading qlasskit-0.1.20-py3-none-any.whl (81 kB)\n",
            "\u001b[?25l     \u001b[90m━━━━━━━━━━━━━━━━━━━━━━━━━━━━━━━━━━━━━━━━\u001b[0m \u001b[32m0.0/81.8 kB\u001b[0m \u001b[31m?\u001b[0m eta \u001b[36m-:--:--\u001b[0m\r\u001b[2K     \u001b[91m━━━━━━━━━━━━━━━━━━━━\u001b[0m\u001b[90m╺\u001b[0m\u001b[90m━━━━━━━━━━━━━━━━━━━\u001b[0m \u001b[32m41.0/81.8 kB\u001b[0m \u001b[31m1.2 MB/s\u001b[0m eta \u001b[36m0:00:01\u001b[0m\r\u001b[2K     \u001b[90m━━━━━━━━━━━━━━━━━━━━━━━━━━━━━━━━━━━━━━━━\u001b[0m \u001b[32m81.8/81.8 kB\u001b[0m \u001b[31m1.4 MB/s\u001b[0m eta \u001b[36m0:00:00\u001b[0m\n",
            "\u001b[?25hRequirement already satisfied: sympy==1.12 in /usr/local/lib/python3.10/dist-packages (from qlasskit) (1.12)\n",
            "Requirement already satisfied: mpmath>=0.19 in /usr/local/lib/python3.10/dist-packages (from sympy==1.12->qlasskit) (1.3.0)\n",
            "Installing collected packages: qlasskit\n",
            "Successfully installed qlasskit-0.1.20\n"
          ]
        }
      ],
      "source": [
        "!pip install qlasskit"
      ]
    },
    {
      "cell_type": "code",
      "source": [
        "from typing import List, Union, Tuple\n",
        "from qlasskit.qcircuit import QCircuit\n",
        "from qlasskit.qlassfun import QlassF\n",
        "from qlasskit.types import Qtype, interpret_as_qtype\n",
        "from qlasskit.algorithms.qalgorithm import QAlgorithm\n",
        "\n",
        "class QPE(QAlgorithm):\n",
        "    def __init__(self, unitary: QlassF, eigenvector: QlassF, num_qubits: int):\n",
        "        \"\"\"\n",
        "        Args:\n",
        "            unitary (QlassF): The unitary operator U whose eigenvalue is to be estimated.\n",
        "            eigenvector (QlassF): The eigenvector |ψ⟩ of the unitary operator U.\n",
        "            num_qubits (int): Number of qubits used for phase estimation.\n",
        "        \"\"\"\n",
        "        self.unitary = unitary\n",
        "        self.eigenvector = eigenvector\n",
        "        self.num_qubits = num_qubits\n",
        "\n",
        "        self._qcircuit = QCircuit(num_qubits + self.unitary.num_qubits, name=f\"qpe_{unitary.name}\")\n",
        "\n",
        "        # Prepare eigenvector\n",
        "        self._qcircuit += self.eigenvector.circuit()\n",
        "\n",
        "        # Apply Hadamard gates to the first num_qubits\n",
        "        for i in range(num_qubits):\n",
        "            self._qcircuit.h(i)\n",
        "\n",
        "        # Apply controlled unitary operations\n",
        "        for i in range(num_qubits):\n",
        "            self._qcircuit.append(self.unitary.circuit(), [i] + list(range(num_qubits, num_qubits + self.unitary.num_qubits)))\n",
        "\n",
        "        # Apply inverse Quantum Fourier Transform\n",
        "        self._qcircuit.qft(range(num_qubits), inverse=True)\n",
        "\n",
        "    @property\n",
        "    def output_qubits(self) -> List[int]:\n",
        "        \"\"\"Returns the list of output qubits\"\"\"\n",
        "        return list(range(self.num_qubits))\n",
        "\n",
        "    def decode_output(\n",
        "        self, istr: Union[str, int, List[bool]]\n",
        "    ) -> Union[bool, Tuple, Qtype, str]:\n",
        "        iq = interpret_as_qtype(istr, self.unitary.args[0].ttype, len(self.unitary.args[0]))\n",
        "        return f\"Phase: {iq / (2 ** self.num_qubits)}\"\n"
      ],
      "metadata": {
        "id": "0fWKXknZBMQt"
      },
      "execution_count": 4,
      "outputs": []
    },
    {
      "cell_type": "code",
      "source": [
        "from typing import List, Union, Tuple\n",
        "from qlasskit.qcircuit import QCircuit\n",
        "from qlasskit.qlassfun import QlassF\n",
        "from qlasskit.types import Qtype, interpret_as_qtype\n",
        "from qlasskit.algorithms.qalgorithm import QAlgorithm\n",
        "\n",
        "class QPE(QAlgorithm):\n",
        "    def __init__(self, unitary: QlassF, eigenvector: QlassF, num_qubits: int):\n",
        "        \"\"\"\n",
        "        Args:\n",
        "            unitary (QlassF): The unitary operator U whose eigenvalue is to be estimated.\n",
        "            eigenvector (QlassF): The eigenvector |ψ⟩ of the unitary operator U.\n",
        "            num_qubits (int): Number of qubits used for phase estimation.\n",
        "        \"\"\"\n",
        "        self.unitary = unitary\n",
        "        self.eigenvector = eigenvector\n",
        "        self.num_qubits = num_qubits\n",
        "\n",
        "        self._qcircuit = QCircuit(num_qubits + self.unitary.num_qubits, name=f\"qpe_{unitary.name}\")\n",
        "\n",
        "        # Prepare eigenvector\n",
        "        self._qcircuit += self.eigenvector.circuit()\n",
        "\n",
        "        # Apply Hadamard gates to the first num_qubits\n",
        "        for i in range(num_qubits):\n",
        "            self._qcircuit.h(i)\n",
        "\n",
        "        # Apply controlled unitary operations\n",
        "        for i in range(num_qubits):\n",
        "            self._qcircuit.append(self.unitary.circuit(), [i] + list(range(num_qubits, num_qubits + self.unitary.num_qubits)))\n",
        "\n",
        "        # Apply inverse Quantum Fourier Transform\n",
        "        self._qcircuit.qft(range(num_qubits), inverse=True)\n",
        "\n",
        "    @property\n",
        "    def output_qubits(self) -> List[int]:\n",
        "        \"\"\"Returns the list of output qubits\"\"\"\n",
        "        return list(range(self.num_qubits))\n",
        "\n",
        "    def decode_output(\n",
        "        self, istr: Union[str, int, List[bool]]\n",
        "    ) -> Union[bool, Tuple, Qtype, str]:\n",
        "        if isinstance(istr, str):\n",
        "            phase_binary = istr\n",
        "        elif isinstance(istr, int):\n",
        "            phase_binary = bin(istr)[2:].zfill(self.num_qubits)\n",
        "        elif isinstance(istr, list):\n",
        "            phase_binary = ''.join(['1' if bit else '0' for bit in istr])\n",
        "        else:\n",
        "            raise ValueError(\"Invalid input type for decode_output\")\n",
        "\n",
        "        phase_int = int(phase_binary, 2)\n",
        "        phase = phase_int / (2 ** self.num_qubits)\n",
        "        return f\"Phase: {phase}\"\n"
      ],
      "metadata": {
        "id": "0ynh0RrRBg4f"
      },
      "execution_count": 7,
      "outputs": []
    }
  ]
}