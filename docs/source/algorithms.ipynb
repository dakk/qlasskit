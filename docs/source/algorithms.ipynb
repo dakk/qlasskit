{
 "cells": [
  {
   "cell_type": "markdown",
   "metadata": {},
   "source": [
    "# Algorithms\n",
    "\n",
    "Qlasskit implements high level representation of quantum algorithms that relies on black boxes functions and oracles.\n",
    "\n",
    "- Grover search\n",
    "- Simon periodicity\n",
    "- Deutsch Jozsa\n",
    "\n",
    "All algorithms share the same base class `QAlgorithm` that inherits from the `QCircuitWrapper` class, offering useful methods to handle high level types.\n",
    "\n",
    "One of those tools is `decode_counts`, that translates the result dictionary from a quantum sampling in its binary form, to the high level representation of data types used in the qlasskit function."
   ]
  },
  {
   "cell_type": "code",
   "execution_count": 9,
   "metadata": {},
   "outputs": [],
   "source": [
    "from typing import Tuple\n",
    "from qlasskit import qlassf, Qint4"
   ]
  },
  {
   "cell_type": "markdown",
   "metadata": {},
   "source": [
    "## Grover search\n"
   ]
  },
  {
   "cell_type": "code",
   "execution_count": 15,
   "metadata": {},
   "outputs": [],
   "source": [
    "from qlasskit.algorithms import Grover\n",
    "\n",
    "@qlassf\n",
    "def g_orac(a: Tuple[bool, bool]) -> bool:\n",
    "    return a[0] and not a[1]\n",
    "\n",
    "q_algo = Grover(g_orac, True)"
   ]
  },
  {
   "cell_type": "markdown",
   "metadata": {},
   "source": [
    "\n",
    "Further examples can be found on the following notebooks:\n",
    "\n",
    "- [example_grover.ipynb]()\n",
    "- [example_grover_subset.ipynb]()\n",
    "- [example_grover_hash.ipynb]()\n",
    "- [example_grover_sudoku.ipynb]()\n",
    "- [example_grover_factorize.ipynb]()\n"
   ]
  },
  {
   "cell_type": "markdown",
   "metadata": {},
   "source": [
    "## Simon periodicity"
   ]
  },
  {
   "cell_type": "code",
   "execution_count": 14,
   "metadata": {},
   "outputs": [],
   "source": [
    "from qlasskit.algorithms import Simon\n",
    "\n",
    "@qlassf\n",
    "def f(a: Qint4) -> Qint4:\n",
    "    return (a >> 3) + 1\n",
    "\n",
    "q_algo = Simon(f)"
   ]
  },
  {
   "cell_type": "markdown",
   "metadata": {},
   "source": [
    "\n",
    "Further examples can be found on the following notebooks:\n",
    "\n",
    "- [example_simon.ipynb]()"
   ]
  },
  {
   "cell_type": "markdown",
   "metadata": {},
   "source": [
    "## Deutsch Jozsa"
   ]
  },
  {
   "cell_type": "code",
   "execution_count": 13,
   "metadata": {},
   "outputs": [],
   "source": [
    "from qlasskit.algorithms import DeutschJozsa\n",
    "\n",
    "@qlassf\n",
    "def f(b: Qint4) -> bool:\n",
    "    return b < 16\n",
    "    \n",
    "q_algo = DeutschJozsa(f)"
   ]
  },
  {
   "cell_type": "markdown",
   "metadata": {},
   "source": [
    "\n",
    "Further examples can be found on the following notebooks:\n",
    "\n",
    "- [example_deutsch_jozsa.ipynb]()"
   ]
  }
 ],
 "metadata": {
  "kernelspec": {
   "display_name": "qlasskit_310-env",
   "language": "python",
   "name": "python3"
  },
  "language_info": {
   "codemirror_mode": {
    "name": "ipython",
    "version": 3
   },
   "file_extension": ".py",
   "mimetype": "text/x-python",
   "name": "python",
   "nbconvert_exporter": "python",
   "pygments_lexer": "ipython3",
   "version": "3.10.13"
  }
 },
 "nbformat": 4,
 "nbformat_minor": 2
}
