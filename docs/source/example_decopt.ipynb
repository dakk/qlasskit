{
 "cells": [
  {
   "cell_type": "code",
   "execution_count": 21,
   "metadata": {},
   "outputs": [
    {
     "data": {
      "text/plain": [
       "DecompiledResults[\n",
       "\t(\n",
       "\t\t(0, 20)\n",
       "\t\t(CCX, [0, 1, 4], None), (CCX, [0, 2, 5], None), (CX, [0, 6], None), (CX, [1, 8], None), (CX, [4, 8], None), (CCCX, [0, 1, 2, 9], None), (CX, [1, 10], None), (CX, [5, 10], None), (CCCX, [0, 1, 10, 9], None), (CX, [1, 11], None), (CX, [4, 11], None), (CX, [5, 11], None), (CCCX, [0, 2, 11, 9], None), (CX, [5, 11], None), (CX, [4, 11], None), (CX, [1, 11], None), (CX, [5, 10], None), (CX, [1, 10], None), (CCX, [0, 2, 5], None), (CCX, [0, 1, 4], None)\n",
       "\t\t(_ret.0, _ret.0 ^ a.0), (_ret.2, _ret.2 ^ a.1 ^ x0 ^ (a.0 & a.1)), (_ret.3, _ret.3 ^ (a.0 & a.1 & a.2) ^ (a.0 & a.1 & (a.1 ^ anc_1 ^ x1 ^ (a.0 & a.2))) ^ (a.0 & a.2 & (a.1 ^ anc_2 ^ x0 ^ x1 ^ (a.0 & a.1) ^ (a.0 & a.2))))\n",
       "\t)\n",
       "]"
      ]
     },
     "execution_count": 21,
     "metadata": {},
     "output_type": "execute_result"
    }
   ],
   "source": [
    "from qlasskit import qlassf, Qint4, Qint6\n",
    "from qlasskit.decompiler import Decompiler, circuit_boolean_optimizer\n",
    "\n",
    "\n",
    "@qlassf\n",
    "def qf(a: Qint4) -> Qint4:\n",
    "    return a * a\n",
    "\n",
    "\n",
    "dc = Decompiler().decompile(qf.circuit())\n",
    "dc"
   ]
  },
  {
   "cell_type": "code",
   "execution_count": 22,
   "metadata": {},
   "outputs": [
    {
     "ename": "Exception",
     "evalue": "duplicate qubit in gate append: [16, 16]",
     "output_type": "error",
     "traceback": [
      "\u001b[0;31m---------------------------------------------------------------------------\u001b[0m",
      "\u001b[0;31mException\u001b[0m                                 Traceback (most recent call last)",
      "Cell \u001b[0;32mIn[22], line 1\u001b[0m\n\u001b[0;32m----> 1\u001b[0m \u001b[43mcircuit_boolean_optimizer\u001b[49m\u001b[43m(\u001b[49m\u001b[43mqf\u001b[49m\u001b[38;5;241;43m.\u001b[39;49m\u001b[43mcircuit\u001b[49m\u001b[43m(\u001b[49m\u001b[43m)\u001b[49m\u001b[43m)\u001b[49m\n",
      "File \u001b[0;32m~/.pyenv/versions/3.10.13/envs/qlasskit_310-env/lib/python3.10/site-packages/qlasskit-0.1.16-py3.10.egg/qlasskit/decompiler/decopt.py:69\u001b[0m, in \u001b[0;36mcircuit_boolean_optimizer\u001b[0;34m(qc, compiler)\u001b[0m\n\u001b[1;32m     66\u001b[0m     n_exps\u001b[38;5;241m.\u001b[39mappend((s, e_symp))\n\u001b[1;32m     68\u001b[0m \u001b[38;5;66;03m# Create new circuit section using the compiler\u001b[39;00m\n\u001b[0;32m---> 69\u001b[0m qc_sec \u001b[38;5;241m=\u001b[39m \u001b[43mexprs_to_quantum\u001b[49m\u001b[43m(\u001b[49m\n\u001b[1;32m     70\u001b[0m \u001b[43m    \u001b[49m\u001b[43mexprs\u001b[49m\u001b[38;5;241;43m=\u001b[39;49m\u001b[43mn_exps\u001b[49m\u001b[43m,\u001b[49m\u001b[43m \u001b[49m\u001b[43msymbols\u001b[49m\u001b[38;5;241;43m=\u001b[39;49m\u001b[43mqc\u001b[49m\u001b[38;5;241;43m.\u001b[39;49m\u001b[43mqubit_map\u001b[49m\u001b[38;5;241;43m.\u001b[39;49m\u001b[43mkeys\u001b[49m\u001b[43m(\u001b[49m\u001b[43m)\u001b[49m\u001b[43m,\u001b[49m\u001b[43m \u001b[49m\u001b[43mcompiler\u001b[49m\u001b[38;5;241;43m=\u001b[39;49m\u001b[38;5;124;43m\"\u001b[39;49m\u001b[38;5;124;43minternal\u001b[39;49m\u001b[38;5;124;43m\"\u001b[39;49m\n\u001b[1;32m     71\u001b[0m \u001b[43m\u001b[49m\u001b[43m)\u001b[49m\n\u001b[1;32m     73\u001b[0m \u001b[38;5;28;01mif\u001b[39;00m (\n\u001b[1;32m     74\u001b[0m     \u001b[38;5;28mlen\u001b[39m(qc_sec\u001b[38;5;241m.\u001b[39mgates) \u001b[38;5;241m>\u001b[39m \u001b[38;5;28mlen\u001b[39m(section\u001b[38;5;241m.\u001b[39mgates)\n\u001b[1;32m     75\u001b[0m     \u001b[38;5;129;01mor\u001b[39;00m (qc_sec\u001b[38;5;241m.\u001b[39mused_qubits \u001b[38;5;241m-\u001b[39m section_qubits) \u001b[38;5;241m!=\u001b[39m \u001b[38;5;28mset\u001b[39m()\n\u001b[1;32m     76\u001b[0m ):\n\u001b[1;32m     77\u001b[0m     \u001b[38;5;28;01mcontinue\u001b[39;00m\n",
      "File \u001b[0;32m~/.pyenv/versions/3.10.13/envs/qlasskit_310-env/lib/python3.10/site-packages/qlasskit-0.1.16-py3.10.egg/qlasskit/compiler/__init__.py:74\u001b[0m, in \u001b[0;36mexprs_to_quantum\u001b[0;34m(exprs, symbols, compiler)\u001b[0m\n\u001b[1;32m     72\u001b[0m \u001b[38;5;28;01mfor\u001b[39;00m s \u001b[38;5;129;01min\u001b[39;00m symbols:\n\u001b[1;32m     73\u001b[0m     args\u001b[38;5;241m.\u001b[39mappend(Arg(s, \u001b[38;5;124m\"\u001b[39m\u001b[38;5;124mbool\u001b[39m\u001b[38;5;124m\"\u001b[39m, [s]))\n\u001b[0;32m---> 74\u001b[0m \u001b[38;5;28;01mreturn\u001b[39;00m \u001b[43mto_quantum\u001b[49m\u001b[43m(\u001b[49m\n\u001b[1;32m     75\u001b[0m \u001b[43m    \u001b[49m\u001b[43mname\u001b[49m\u001b[38;5;241;43m=\u001b[39;49m\u001b[38;5;124;43m\"\u001b[39;49m\u001b[38;5;124;43m\"\u001b[39;49m\u001b[43m,\u001b[49m\n\u001b[1;32m     76\u001b[0m \u001b[43m    \u001b[49m\u001b[43margs\u001b[49m\u001b[38;5;241;43m=\u001b[39;49m\u001b[43margs\u001b[49m\u001b[43m,\u001b[49m\n\u001b[1;32m     77\u001b[0m \u001b[43m    \u001b[49m\u001b[43mreturns\u001b[49m\u001b[38;5;241;43m=\u001b[39;49m\u001b[38;5;28;43;01mNone\u001b[39;49;00m\u001b[43m,\u001b[49m\n\u001b[1;32m     78\u001b[0m \u001b[43m    \u001b[49m\u001b[43mexprs\u001b[49m\u001b[38;5;241;43m=\u001b[39;49m\u001b[43mexprs\u001b[49m\u001b[43m,\u001b[49m\n\u001b[1;32m     79\u001b[0m \u001b[43m    \u001b[49m\u001b[43mcompiler\u001b[49m\u001b[38;5;241;43m=\u001b[39;49m\u001b[43mcompiler\u001b[49m\u001b[43m,\u001b[49m\n\u001b[1;32m     80\u001b[0m \u001b[43m    \u001b[49m\u001b[43muncompute\u001b[49m\u001b[38;5;241;43m=\u001b[39;49m\u001b[38;5;28;43;01mFalse\u001b[39;49;00m\u001b[43m,\u001b[49m\n\u001b[1;32m     81\u001b[0m \u001b[43m\u001b[49m\u001b[43m)\u001b[49m\n",
      "File \u001b[0;32m~/.pyenv/versions/3.10.13/envs/qlasskit_310-env/lib/python3.10/site-packages/qlasskit-0.1.16-py3.10.egg/qlasskit/compiler/__init__.py:64\u001b[0m, in \u001b[0;36mto_quantum\u001b[0;34m(name, args, returns, exprs, compiler, uncompute)\u001b[0m\n\u001b[1;32m     59\u001b[0m \u001b[38;5;28;01melse\u001b[39;00m:\n\u001b[1;32m     60\u001b[0m     \u001b[38;5;28;01mraise\u001b[39;00m \u001b[38;5;167;01mException\u001b[39;00m(\n\u001b[1;32m     61\u001b[0m         \u001b[38;5;124mf\u001b[39m\u001b[38;5;124m\"\u001b[39m\u001b[38;5;124mCompiler \u001b[39m\u001b[38;5;132;01m{\u001b[39;00mcompiler\u001b[38;5;132;01m}\u001b[39;00m\u001b[38;5;124m not supported. Choose one between \u001b[39m\u001b[38;5;132;01m{\u001b[39;00mSupportedCompilers\u001b[38;5;132;01m}\u001b[39;00m\u001b[38;5;124m\"\u001b[39m\n\u001b[1;32m     62\u001b[0m     )\n\u001b[0;32m---> 64\u001b[0m circ \u001b[38;5;241m=\u001b[39m \u001b[43msel_compiler\u001b[49m\u001b[38;5;241;43m.\u001b[39;49m\u001b[43mcompile\u001b[49m\u001b[43m(\u001b[49m\u001b[43mname\u001b[49m\u001b[43m,\u001b[49m\u001b[43m \u001b[49m\u001b[43margs\u001b[49m\u001b[43m,\u001b[49m\u001b[43m \u001b[49m\u001b[43mreturns\u001b[49m\u001b[43m,\u001b[49m\u001b[43m \u001b[49m\u001b[43mexprs\u001b[49m\u001b[43m,\u001b[49m\u001b[43m \u001b[49m\u001b[43muncompute\u001b[49m\u001b[43m)\u001b[49m\n\u001b[1;32m     65\u001b[0m \u001b[38;5;28;01mreturn\u001b[39;00m circ\n",
      "File \u001b[0;32m~/.pyenv/versions/3.10.13/envs/qlasskit_310-env/lib/python3.10/site-packages/qlasskit-0.1.16-py3.10.egg/qlasskit/compiler/internalcompiler.py:72\u001b[0m, in \u001b[0;36mInternalCompiler.compile\u001b[0;34m(self, name, args, returns, exprs, uncompute)\u001b[0m\n\u001b[1;32m     70\u001b[0m     qc\u001b[38;5;241m.\u001b[39mx(iret)\n\u001b[1;32m     71\u001b[0m \u001b[38;5;28;01melse\u001b[39;00m:\n\u001b[0;32m---> 72\u001b[0m     iret \u001b[38;5;241m=\u001b[39m \u001b[38;5;28;43mself\u001b[39;49m\u001b[38;5;241;43m.\u001b[39;49m\u001b[43mcompile_expr\u001b[49m\u001b[43m(\u001b[49m\u001b[43mqc\u001b[49m\u001b[43m,\u001b[49m\u001b[43m \u001b[49m\u001b[43msymp_exp\u001b[49m\u001b[43m)\u001b[49m\n\u001b[1;32m     74\u001b[0m \u001b[38;5;28mself\u001b[39m\u001b[38;5;241m.\u001b[39mexpqmap[sym] \u001b[38;5;241m=\u001b[39m iret\n\u001b[1;32m     75\u001b[0m qc\u001b[38;5;241m.\u001b[39mmap_qubit(sym, iret, promote\u001b[38;5;241m=\u001b[39m\u001b[38;5;129;01mnot\u001b[39;00m is_temp)\n",
      "File \u001b[0;32m~/.pyenv/versions/3.10.13/envs/qlasskit_310-env/lib/python3.10/site-packages/qlasskit-0.1.16-py3.10.egg/qlasskit/compiler/internalcompiler.py:119\u001b[0m, in \u001b[0;36mInternalCompiler.compile_expr\u001b[0;34m(self, qc, expr, dest)\u001b[0m\n\u001b[1;32m    117\u001b[0m         qc\u001b[38;5;241m.\u001b[39mx(d)\n\u001b[1;32m    118\u001b[0m     \u001b[38;5;28;01melse\u001b[39;00m:\n\u001b[0;32m--> 119\u001b[0m         d \u001b[38;5;241m=\u001b[39m \u001b[38;5;28;43mself\u001b[39;49m\u001b[38;5;241;43m.\u001b[39;49m\u001b[43mcompile_expr\u001b[49m\u001b[43m(\u001b[49m\u001b[43mqc\u001b[49m\u001b[43m,\u001b[49m\u001b[43m \u001b[49m\u001b[43me\u001b[49m\u001b[43m,\u001b[49m\u001b[43m \u001b[49m\u001b[43mdest\u001b[49m\u001b[38;5;241;43m=\u001b[39;49m\u001b[43md\u001b[49m\u001b[43m)\u001b[49m\n\u001b[1;32m    121\u001b[0m \u001b[38;5;28mself\u001b[39m\u001b[38;5;241m.\u001b[39mexpqmap[expr] \u001b[38;5;241m=\u001b[39m d\n\u001b[1;32m    122\u001b[0m \u001b[38;5;28;01mreturn\u001b[39;00m d\n",
      "File \u001b[0;32m~/.pyenv/versions/3.10.13/envs/qlasskit_310-env/lib/python3.10/site-packages/qlasskit-0.1.16-py3.10.egg/qlasskit/compiler/internalcompiler.py:142\u001b[0m, in \u001b[0;36mInternalCompiler.compile_expr\u001b[0;34m(self, qc, expr, dest)\u001b[0m\n\u001b[1;32m    139\u001b[0m         \u001b[38;5;28;01mreturn\u001b[39;00m dest\n\u001b[1;32m    141\u001b[0m \u001b[38;5;28;01melif\u001b[39;00m \u001b[38;5;28misinstance\u001b[39m(expr, And):\n\u001b[0;32m--> 142\u001b[0m     erets \u001b[38;5;241m=\u001b[39m \u001b[38;5;28;43mlist\u001b[39;49m\u001b[43m(\u001b[49m\u001b[38;5;28;43mmap\u001b[39;49m\u001b[43m(\u001b[49m\u001b[38;5;28;43;01mlambda\u001b[39;49;00m\u001b[43m \u001b[49m\u001b[43me\u001b[49m\u001b[43m:\u001b[49m\u001b[43m \u001b[49m\u001b[38;5;28;43mself\u001b[39;49m\u001b[38;5;241;43m.\u001b[39;49m\u001b[43mcompile_expr\u001b[49m\u001b[43m(\u001b[49m\u001b[43mqc\u001b[49m\u001b[43m,\u001b[49m\u001b[43m \u001b[49m\u001b[43me\u001b[49m\u001b[43m)\u001b[49m\u001b[43m,\u001b[49m\u001b[43m \u001b[49m\u001b[43mexpr\u001b[49m\u001b[38;5;241;43m.\u001b[39;49m\u001b[43margs\u001b[49m\u001b[43m)\u001b[49m\u001b[43m)\u001b[49m\n\u001b[1;32m    143\u001b[0m     \u001b[38;5;28;01mif\u001b[39;00m dest \u001b[38;5;129;01mis\u001b[39;00m \u001b[38;5;28;01mNone\u001b[39;00m:\n\u001b[1;32m    144\u001b[0m         dest \u001b[38;5;241m=\u001b[39m qc\u001b[38;5;241m.\u001b[39mget_free_ancilla()\n",
      "File \u001b[0;32m~/.pyenv/versions/3.10.13/envs/qlasskit_310-env/lib/python3.10/site-packages/qlasskit-0.1.16-py3.10.egg/qlasskit/compiler/internalcompiler.py:142\u001b[0m, in \u001b[0;36mInternalCompiler.compile_expr.<locals>.<lambda>\u001b[0;34m(e)\u001b[0m\n\u001b[1;32m    139\u001b[0m         \u001b[38;5;28;01mreturn\u001b[39;00m dest\n\u001b[1;32m    141\u001b[0m \u001b[38;5;28;01melif\u001b[39;00m \u001b[38;5;28misinstance\u001b[39m(expr, And):\n\u001b[0;32m--> 142\u001b[0m     erets \u001b[38;5;241m=\u001b[39m \u001b[38;5;28mlist\u001b[39m(\u001b[38;5;28mmap\u001b[39m(\u001b[38;5;28;01mlambda\u001b[39;00m e: \u001b[38;5;28;43mself\u001b[39;49m\u001b[38;5;241;43m.\u001b[39;49m\u001b[43mcompile_expr\u001b[49m\u001b[43m(\u001b[49m\u001b[43mqc\u001b[49m\u001b[43m,\u001b[49m\u001b[43m \u001b[49m\u001b[43me\u001b[49m\u001b[43m)\u001b[49m, expr\u001b[38;5;241m.\u001b[39margs))\n\u001b[1;32m    143\u001b[0m     \u001b[38;5;28;01mif\u001b[39;00m dest \u001b[38;5;129;01mis\u001b[39;00m \u001b[38;5;28;01mNone\u001b[39;00m:\n\u001b[1;32m    144\u001b[0m         dest \u001b[38;5;241m=\u001b[39m qc\u001b[38;5;241m.\u001b[39mget_free_ancilla()\n",
      "File \u001b[0;32m~/.pyenv/versions/3.10.13/envs/qlasskit_310-env/lib/python3.10/site-packages/qlasskit-0.1.16-py3.10.egg/qlasskit/compiler/internalcompiler.py:109\u001b[0m, in \u001b[0;36mInternalCompiler.compile_expr\u001b[0;34m(self, qc, expr, dest)\u001b[0m\n\u001b[1;32m    107\u001b[0m \u001b[38;5;28;01mfor\u001b[39;00m e \u001b[38;5;129;01min\u001b[39;00m expr\u001b[38;5;241m.\u001b[39margs:\n\u001b[1;32m    108\u001b[0m     \u001b[38;5;28;01mif\u001b[39;00m \u001b[38;5;28misinstance\u001b[39m(e, Symbol):\n\u001b[0;32m--> 109\u001b[0m         \u001b[43mqc\u001b[49m\u001b[38;5;241;43m.\u001b[39;49m\u001b[43mcx\u001b[49m\u001b[43m(\u001b[49m\u001b[43mqc\u001b[49m\u001b[43m[\u001b[49m\u001b[43me\u001b[49m\u001b[43m]\u001b[49m\u001b[43m,\u001b[49m\u001b[43m \u001b[49m\u001b[43md\u001b[49m\u001b[43m)\u001b[49m\n\u001b[1;32m    110\u001b[0m     \u001b[38;5;28;01melif\u001b[39;00m \u001b[38;5;28misinstance\u001b[39m(e, QuantumBooleanGate):\n\u001b[1;32m    111\u001b[0m         d2 \u001b[38;5;241m=\u001b[39m \u001b[38;5;28mself\u001b[39m\u001b[38;5;241m.\u001b[39mcompile_expr(qc, e)\n",
      "File \u001b[0;32m~/.pyenv/versions/3.10.13/envs/qlasskit_310-env/lib/python3.10/site-packages/qlasskit-0.1.16-py3.10.egg/qlasskit/qcircuit/qcircuit.py:267\u001b[0m, in \u001b[0;36mQCircuit.cx\u001b[0;34m(self, w1, w2)\u001b[0m\n\u001b[1;32m    265\u001b[0m \u001b[38;5;250m\u001b[39m\u001b[38;5;124;03m\"\"\"CX gate\"\"\"\u001b[39;00m\n\u001b[1;32m    266\u001b[0m w1, w2 \u001b[38;5;241m=\u001b[39m \u001b[38;5;28mself\u001b[39m[w1], \u001b[38;5;28mself\u001b[39m[w2]\n\u001b[0;32m--> 267\u001b[0m \u001b[38;5;28;43mself\u001b[39;49m\u001b[38;5;241;43m.\u001b[39;49m\u001b[43mappend\u001b[49m\u001b[43m(\u001b[49m\u001b[43mgates\u001b[49m\u001b[38;5;241;43m.\u001b[39;49m\u001b[43mCX\u001b[49m\u001b[43m(\u001b[49m\u001b[43m)\u001b[49m\u001b[43m,\u001b[49m\u001b[43m \u001b[49m\u001b[43m[\u001b[49m\u001b[43mw1\u001b[49m\u001b[43m,\u001b[49m\u001b[43m \u001b[49m\u001b[43mw2\u001b[49m\u001b[43m]\u001b[49m\u001b[43m)\u001b[49m\n",
      "File \u001b[0;32m~/.pyenv/versions/3.10.13/envs/qlasskit_310-env/lib/python3.10/site-packages/qlasskit-0.1.16-py3.10.egg/qlasskit/qcircuit/qcircuit.py:221\u001b[0m, in \u001b[0;36mQCircuit.append\u001b[0;34m(self, gate, qubits, param)\u001b[0m\n\u001b[1;32m    219\u001b[0m \u001b[38;5;28;01mfor\u001b[39;00m q \u001b[38;5;129;01min\u001b[39;00m qubits:\n\u001b[1;32m    220\u001b[0m     \u001b[38;5;28;01mif\u001b[39;00m q \u001b[38;5;129;01min\u001b[39;00m qs:\n\u001b[0;32m--> 221\u001b[0m         \u001b[38;5;28;01mraise\u001b[39;00m \u001b[38;5;167;01mException\u001b[39;00m(\u001b[38;5;124mf\u001b[39m\u001b[38;5;124m\"\u001b[39m\u001b[38;5;124mduplicate qubit in gate append: \u001b[39m\u001b[38;5;132;01m{\u001b[39;00mqubits\u001b[38;5;132;01m}\u001b[39;00m\u001b[38;5;124m\"\u001b[39m)\n\u001b[1;32m    222\u001b[0m     qs\u001b[38;5;241m.\u001b[39madd(q)\n\u001b[1;32m    224\u001b[0m applied \u001b[38;5;241m=\u001b[39m gates\u001b[38;5;241m.\u001b[39mapply(gate, qubits, param)\n",
      "\u001b[0;31mException\u001b[0m: duplicate qubit in gate append: [16, 16]"
     ]
    }
   ],
   "source": [
    "circuit_boolean_optimizer(qf.circuit())"
   ]
  }
 ],
 "metadata": {
  "kernelspec": {
   "display_name": "qlasskit_310-env",
   "language": "python",
   "name": "python3"
  },
  "language_info": {
   "codemirror_mode": {
    "name": "ipython",
    "version": 3
   },
   "file_extension": ".py",
   "mimetype": "text/x-python",
   "name": "python",
   "nbconvert_exporter": "python",
   "pygments_lexer": "ipython3",
   "version": "3.10.13"
  }
 },
 "nbformat": 4,
 "nbformat_minor": 2
}
