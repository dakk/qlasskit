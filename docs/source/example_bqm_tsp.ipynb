{
 "cells": [
  {
   "cell_type": "markdown",
   "metadata": {},
   "source": [
    "# TSP"
   ]
  },
  {
   "cell_type": "code",
   "execution_count": 26,
   "metadata": {},
   "outputs": [],
   "source": [
    "# Encode the TSP using qlasskit and parameters\n",
    "\n",
    "from qlasskit import qlassf, Parameter, Qlist, Qmatrix, Qint\n",
    "\n",
    "\n",
    "@qlassf\n",
    "def tsp(\n",
    "    dst_matrix: Parameter[Qmatrix[Qint[4], 3, 3]], order: Qlist[Qint[2], 3]\n",
    ") -> Qint[6]:\n",
    "    dst_sum = Qint4(0)\n",
    "    assertion = False\n",
    "    \n",
    "    if sum(order) != 3:\n",
    "        assertion = True\n",
    "\n",
    "    for i in range(2):\n",
    "        oim = order[i]\n",
    "        oi = order[i + 1]\n",
    "        dst_sum += dst_matrix[oim][oi] if not assertion else 0xF\n",
    "    return dst_sum\n",
    "\n",
    "\n",
    "dst_matrix=[\n",
    "    [0xF, 1, 4], \n",
    "    [1, 0xF, 1], \n",
    "    [1, 1, 0xF]\n",
    "]\n",
    "tsp_f = tsp.bind(dst_matrix=dst_matrix)\n",
    "# tsp_f.expressions"
   ]
  },
  {
   "cell_type": "code",
   "execution_count": 27,
   "metadata": {},
   "outputs": [
    {
     "name": "stdout",
     "output_type": "stream",
     "text": [
      "Vars: 18 \n",
      "Interactions: 81\n"
     ]
    }
   ],
   "source": [
    "bqm = tsp_f.to_bqm()\n",
    "print(\"Vars:\", bqm.num_variables, \"\\nInteractions:\", bqm.num_interactions)"
   ]
  },
  {
   "cell_type": "code",
   "execution_count": 28,
   "metadata": {},
   "outputs": [
    {
     "name": "stdout",
     "output_type": "stream",
     "text": [
      "{'order': (0, 1, 2)}\n"
     ]
    }
   ],
   "source": [
    "import neal\n",
    "from qlasskit.bqm import decode_samples\n",
    "\n",
    "sa = neal.SimulatedAnnealingSampler()\n",
    "sampleset = sa.sample(bqm, num_reads=10)\n",
    "decoded_samples = decode_samples(tsp_f, sampleset)\n",
    "best_sample = min(decoded_samples, key=lambda x: x.energy)\n",
    "print(best_sample.sample)\n"
   ]
  }
 ],
 "metadata": {
  "kernelspec": {
   "display_name": "qlasskit_310-env",
   "language": "python",
   "name": "python3"
  },
  "language_info": {
   "codemirror_mode": {
    "name": "ipython",
    "version": 3
   },
   "file_extension": ".py",
   "mimetype": "text/x-python",
   "name": "python",
   "nbconvert_exporter": "python",
   "pygments_lexer": "ipython3",
   "version": "3.10.13"
  }
 },
 "nbformat": 4,
 "nbformat_minor": 2
}
